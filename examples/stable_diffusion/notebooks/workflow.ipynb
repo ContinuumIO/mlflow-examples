{
 "cells": [
  {
   "cell_type": "code",
   "execution_count": null,
   "outputs": [],
   "source": [
    "import mlflow\n",
    "\n",
    "from anaconda.enterprise.server.common.sdk import load_ae5_user_secrets\n",
    "from workflow.utils.tracking import upsert_experiment\n",
    "\n",
    "# Ensure:\n",
    "#  1. We load AE5 secrets\n",
    "#  2. That we have set our experiment name for reporting.\n",
    "#     See notes in anaconda-project.xml around MLFlow project naming control.\n",
    "\n",
    "load_ae5_user_secrets()\n",
    "mlflow.set_experiment(experiment_id=upsert_experiment())"
   ],
   "metadata": {
    "collapsed": false
   }
  },
  {
   "cell_type": "code",
   "execution_count": null,
   "outputs": [],
   "source": [
    "# Define our parameters:\n",
    "\n",
    "# The prompt to use for image generation.\n",
    "prompt: str = \"\"\n",
    "\n",
    "# The base data directory that requests are stored in.\n",
    "data_base_dir: str = \"data\"\n",
    "\n",
    "# Number of total images to generate.\n",
    "total_batch_size: int = 1\n",
    "\n",
    "# Number of images to generate per worker invocation.\n",
    "per_worker_batch_size: int = 1\n",
    "\n",
    "# Image Width\n",
    "image_width: int = 512\n",
    "\n",
    "# Image Height\n",
    "image_height: int = 512\n",
    "\n",
    "# The name of the run.\n",
    "run_name: str = \"workflow-step-process-data\"\n",
    "\n",
    "# Flag for appending a unique string to the end of run names.\n",
    "unique: bool = True\n",
    "\n",
    "# The backend to use for workers.\n",
    "backend: str = 'local'"
   ],
   "metadata": {
    "collapsed": false
   }
  },
  {
   "cell_type": "code",
   "execution_count": null,
   "outputs": [],
   "source": [
    "from mlflow import ActiveRun\n",
    "from workflow.utils.tracking import build_run_name\n",
    "\n",
    "workflow_run: ActiveRun = mlflow.start_run(run_name=build_run_name(name=run_name, unique=unique))"
   ],
   "metadata": {
    "collapsed": false
   }
  },
  {
   "cell_type": "code",
   "execution_count": null,
   "outputs": [],
   "source": [
    "import uuid\n",
    "from pathlib import Path\n",
    "\n",
    "#############################################################################\n",
    "# Set up runtime environment\n",
    "#############################################################################\n",
    "\n",
    "print(f\"prompt={prompt}\")\n",
    "print(f\"data_base_dir={data_base_dir}\")\n",
    "print(f\"total_batch_size={total_batch_size}\")\n",
    "print(f\"per_worker_batch_size={per_worker_batch_size}\")\n",
    "print(f\"image_width={image_width}\")\n",
    "print(f\"image_height={image_height}\")\n",
    "print(f\"backend={backend}\")\n",
    "\n",
    "run_id: str = workflow_run.info.run_id\n",
    "print(f\"run_id: {run_id}\")\n",
    "\n",
    "request_id: str = str(uuid.uuid4())\n",
    "base_path: Path = Path(data_base_dir) / request_id\n",
    "base_path.mkdir(parents=True, exist_ok=True)\n",
    "with open(file=(base_path / \"prompt.txt\").as_posix(), mode=\"w\", encoding=\"utf-8\") as file:\n",
    "    file.write(prompt)"
   ],
   "metadata": {
    "collapsed": false
   }
  },
  {
   "cell_type": "code",
   "execution_count": null,
   "outputs": [],
   "source": [
    "from mlflow_adsp import ADSPScheduler, ExecuteStepRequest\n",
    "\n",
    "#############################################################################\n",
    "# Prepare Worker Environment Step\n",
    "#############################################################################\n",
    "ADSPScheduler.execute_step(\n",
    "    request=ExecuteStepRequest(\n",
    "        entry_point=\"prepare_worker_environment\",\n",
    "        parameters={\"backend\": backend},\n",
    "        run_name=build_run_name(name=\"workflow-step-prepare-worker-environment\", unique=unique),\n",
    "        synchronous=True,\n",
    "        backend=\"local\",\n",
    "    )\n",
    ")"
   ],
   "metadata": {
    "collapsed": false
   }
  },
  {
   "cell_type": "code",
   "execution_count": null,
   "outputs": [],
   "source": [
    "from typing import List\n",
    "import math\n",
    "\n",
    "#############################################################################\n",
    "# Processing Step [Build Requests]\n",
    "#############################################################################\n",
    "worker_count: int = math.ceil(total_batch_size / per_worker_batch_size)\n",
    "print(f\"number of workers: {worker_count}\")\n",
    "\n",
    "jobs: List[ExecuteStepRequest] = []\n",
    "for _ in range(worker_count):\n",
    "    request: ExecuteStepRequest = ExecuteStepRequest(\n",
    "        entry_point=\"process_data\",\n",
    "        parameters={\n",
    "            \"request_id\": request_id,\n",
    "            \"data_base_dir\": data_base_dir,\n",
    "            \"batch_size\": per_worker_batch_size,\n",
    "            \"image_width\": image_width,\n",
    "            \"image_height\": image_height,\n",
    "        },\n",
    "        run_name=build_run_name(name=\"workflow-step-process-data\", unique=unique),\n",
    "        backend=backend,\n",
    "        backend_config={\"resource_profile\": \"large\"},\n",
    "        synchronous=backend == \"local\",  # Force to serial processing if running locally.\n",
    "    )\n",
    "    jobs.append(request)"
   ],
   "metadata": {
    "collapsed": false
   }
  },
  {
   "cell_type": "code",
   "execution_count": null,
   "outputs": [],
   "source": [
    "from mlflow_adsp import ADSPMetaJob\n",
    "\n",
    "# submit jobs\n",
    "print(\"starting workers\")\n",
    "adsp_jobs: List[ADSPMetaJob] = ADSPScheduler().process_work_queue(requests=jobs)\n",
    "print(\"Step execution completed\")"
   ],
   "metadata": {
    "collapsed": false
   }
  },
  {
   "cell_type": "code",
   "execution_count": null,
   "outputs": [],
   "source": [
    "# Review job status\n",
    "for job in adsp_jobs:\n",
    "    print(f\"Job ID: {job.id}, Status: {job.last_seen_status}, Number of executions: {len(job.runs)}\")"
   ],
   "metadata": {
    "collapsed": false
   }
  }
 ],
 "metadata": {
  "kernelspec": {
   "display_name": "Python 3",
   "language": "python",
   "name": "python3"
  },
  "language_info": {
   "codemirror_mode": {
    "name": "ipython",
    "version": 2
   },
   "file_extension": ".py",
   "mimetype": "text/x-python",
   "name": "python",
   "nbconvert_exporter": "python",
   "pygments_lexer": "ipython2",
   "version": "2.7.6"
  }
 },
 "nbformat": 4,
 "nbformat_minor": 0
}
