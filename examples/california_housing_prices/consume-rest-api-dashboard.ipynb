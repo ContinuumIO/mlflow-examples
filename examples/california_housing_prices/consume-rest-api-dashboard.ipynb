{
 "cells": [
  {
   "cell_type": "markdown",
   "id": "eef54061",
   "metadata": {},
   "source": [
    "# California Housing Prediction Dashboard\n",
    "This demo will consume a REST API fronting the latest trained model."
   ]
  },
  {
   "cell_type": "code",
   "execution_count": null,
   "id": "a608e391",
   "metadata": {
    "tags": []
   },
   "outputs": [],
   "source": [
    "from src.environment import init\n",
    "import pandas as pd\n",
    "import panel as pn\n",
    "import warnings\n",
    "import numpy as np\n",
    "\n",
    "warnings.filterwarnings(\"ignore\")\n",
    "np.random.seed(42)\n",
    "\n",
    "experiment_id, client = init()"
   ]
  },
  {
   "cell_type": "code",
   "execution_count": null,
   "id": "092b0116",
   "metadata": {
    "tags": []
   },
   "outputs": [],
   "source": [
    "from src.constants import *\n",
    "\n",
    "# Define our sliders\n",
    "longitude_float_slider = pn.widgets.EditableFloatSlider(\n",
    "    name=\"Longitude\", start=-124, end=-115, step=0.1, value=DEFAULT_LONGITUDE\n",
    ")\n",
    "latitude_float_slider = pn.widgets.EditableFloatSlider(\n",
    "    name=\"Latitude\", start=32, end=42, step=0.1, value=DEFAULT_LATITUDE\n",
    ")\n",
    "housing_median_age_slider = pn.widgets.EditableFloatSlider(\n",
    "    name=\"Housing Median Age\", start=1, end=52, step=0.5, value=DEFAULT_MEDIAN_HOUSING_AGE\n",
    ")\n",
    "bedrooms_per_person_slider = pn.widgets.EditableFloatSlider(\n",
    "    name=\"Bedrooms Per Person\", start=0.1, end=1.0, step=0.01, value=DEFAULT_BEDRMS_PER_PERSON\n",
    ")\n",
    "population_slider = pn.widgets.EditableFloatSlider(\n",
    "    name=\"Population\", start=3, end=36000, step=360, value=DEFAULT_POPULATION\n",
    ")\n",
    "households_slider = pn.widgets.EditableFloatSlider(\n",
    "    name=\"Households\", start=2, end=6100, step=60, value=DEFAULT_HOUSEHOLDS\n",
    ")\n",
    "median_income_slider = pn.widgets.EditableFloatSlider(\n",
    "    name=\"Median Income\", start=0, end=15, step=0.15, value=DEFAULT_MEDIAN_INCOME\n",
    ")"
   ]
  },
  {
   "cell_type": "code",
   "execution_count": null,
   "id": "c8ea10fc",
   "metadata": {
    "tags": []
   },
   "outputs": [],
   "source": [
    "def build_blank_result_row() -> pd.DataFrame:\n",
    "    return pd.DataFrame(\n",
    "        [\n",
    "            {\n",
    "                \"longitude\": [],\n",
    "                \"latitude\": [],\n",
    "                \"housing_median_age\": [],\n",
    "                \"bedrooms_per_person\": [],\n",
    "                \"population\": [],\n",
    "                \"households\": [],\n",
    "                \"median_income\": [],\n",
    "                \"median_housing_value\": [],\n",
    "            }\n",
    "        ]\n",
    "    )"
   ]
  },
  {
   "cell_type": "code",
   "execution_count": null,
   "id": "6257e2be",
   "metadata": {
    "tags": []
   },
   "outputs": [],
   "source": [
    "results_df_pane = pn.widgets.DataFrame(build_blank_result_row(), width=1300)"
   ]
  },
  {
   "cell_type": "code",
   "execution_count": null,
   "id": "f50e9a77",
   "metadata": {
    "tags": []
   },
   "outputs": [],
   "source": [
    "def clear_btn_action(event):\n",
    "    results_df_pane.value = build_blank_result_row()"
   ]
  },
  {
   "cell_type": "code",
   "execution_count": null,
   "id": "97b3c688-69d7-416c-9cdc-7619def2e38b",
   "metadata": {
    "tags": []
   },
   "outputs": [],
   "source": [
    "def reset_btn_action(event):\n",
    "    longitude_float_slider.value = DEFAULT_LONGITUDE\n",
    "    latitude_float_slider.value = DEFAULT_LATITUDE\n",
    "    housing_median_age_slider.value = DEFAULT_MEDIAN_HOUSING_AGE\n",
    "    bedrooms_per_person_slider.value = DEFAULT_BEDRMS_PER_PERSON\n",
    "    population_slider.value = DEFAULT_POPULATION\n",
    "    households_slider.value = DEFAULT_HOUSEHOLDS\n",
    "    median_income_slider.value = DEFAULT_MEDIAN_INCOME"
   ]
  },
  {
   "cell_type": "code",
   "execution_count": null,
   "id": "0269b37d",
   "metadata": {
    "tags": []
   },
   "outputs": [],
   "source": [
    "from src.rest import invoke_rest_endpoint\n",
    "from ae5_tools import demand_env_var\n",
    "\n",
    "\n",
    "def submit_btn_action(event):\n",
    "    feature_data: list[dict] = [\n",
    "        {\n",
    "            \"longitude\": longitude_float_slider.value,\n",
    "            \"latitude\": latitude_float_slider.value,\n",
    "            \"housing_median_age\": housing_median_age_slider.value,\n",
    "            \"population\": population_slider.value,\n",
    "            \"households\": households_slider.value,\n",
    "            \"median_income\": median_income_slider.value,\n",
    "            \"diag_coord\": longitude_float_slider.value + latitude_float_slider.value,\n",
    "            \"bedperroom\": bedrooms_per_person_slider.value,\n",
    "            \"median_housing_value\": [],\n",
    "        }\n",
    "    ]\n",
    "\n",
    "    results: dict = invoke_rest_endpoint(\n",
    "        endpoint_url=demand_env_var(name=\"SELF_HOSTED_MODEL_ENDPOINT\"),\n",
    "        input_data={\"dataframe_records\": feature_data},\n",
    "        auth=False,\n",
    "    )\n",
    "\n",
    "    predicted_value: int = int(round(results[\"predictions\"][0]))\n",
    "    feature_data[0][\"median_housing_value\"] = predicted_value if predicted_value >= 0 else None\n",
    "\n",
    "    row_df = pd.DataFrame(feature_data)\n",
    "\n",
    "    if results_df_pane.value.loc[[0]][\"median_housing_value\"][0] == []:\n",
    "        results_df_pane.value = row_df\n",
    "    else:\n",
    "        results_df_pane.value = pd.concat([results_df_pane.value, row_df], ignore_index=True)"
   ]
  },
  {
   "cell_type": "code",
   "execution_count": null,
   "id": "ed7dc31b",
   "metadata": {
    "tags": []
   },
   "outputs": [],
   "source": [
    "# Define our buttons\n",
    "submit_btn = pn.widgets.Button(name=\"Submit\", button_type=\"primary\")\n",
    "submit_btn.on_click(submit_btn_action)\n",
    "\n",
    "clear_btn = pn.widgets.Button(name=\"Clear\", button_type=\"primary\")\n",
    "clear_btn.on_click(clear_btn_action)\n",
    "\n",
    "reset_btn = pn.widgets.Button(name=\"Reset Sliders\", button_type=\"primary\")\n",
    "reset_btn.on_click(reset_btn_action)"
   ]
  },
  {
   "cell_type": "code",
   "execution_count": null,
   "id": "d19a3178-53f0-426e-9649-59ee00f87cd8",
   "metadata": {
    "tags": []
   },
   "outputs": [],
   "source": [
    "description_text: str = \"\"\"\n",
    "# Feature Desciptions\n",
    "\n",
    "| Feature | Description                                                               |\n",
    "| ------- | ------------------------------------------------------------------------- |\n",
    "| longitude and latitude | Geospatial features for the region within California.      |\n",
    "| housing_median_age     | The median age of housing. (years)                         |\n",
    "| bedrooms_per_person    | The number of bedrooms per person.                         |\n",
    "| households             | The number of houses in the region.                        |\n",
    "| median_income          | The median income of the population. (thousands per month) |\n",
    "\"\"\"\n",
    "features_description_markdown = pn.pane.Markdown(object=description_text)"
   ]
  },
  {
   "cell_type": "code",
   "execution_count": null,
   "id": "6517d710",
   "metadata": {
    "tags": []
   },
   "outputs": [],
   "source": [
    "pn.extension()\n",
    "\n",
    "title: str = \"<h1>Housing Prices Dashboard</h1>\"\n",
    "description = pn.pane.HTML(\"\"\"Feature selection and predicted value\"\"\")\n",
    "\n",
    "# Build layout\n",
    "pn.Column(\n",
    "    pn.Row(pn.Column(title, description)),\n",
    "    pn.Row(\n",
    "        pn.Column(\n",
    "            longitude_float_slider,\n",
    "            latitude_float_slider,\n",
    "            housing_median_age_slider,\n",
    "            bedrooms_per_person_slider,\n",
    "            population_slider,\n",
    "            households_slider,\n",
    "            median_income_slider,\n",
    "            reset_btn,\n",
    "        ),\n",
    "        pn.Column(pn.Row(submit_btn, clear_btn), results_df_pane),\n",
    "    ),\n",
    "    pn.Row(pn.Column(features_description_markdown)),\n",
    ").servable(\"Housing Prices Dashboard\")"
   ]
  }
 ],
 "metadata": {
  "kernelspec": {
   "display_name": "Python 3 (ipykernel) [default]",
   "language": "python",
   "name": "anaconda-project-default-python3"
  },
  "language_info": {
   "codemirror_mode": {
    "name": "ipython",
    "version": 3
   },
   "file_extension": ".py",
   "mimetype": "text/x-python",
   "name": "python",
   "nbconvert_exporter": "python",
   "pygments_lexer": "ipython3",
   "version": "3.11.5"
  }
 },
 "nbformat": 4,
 "nbformat_minor": 5
}
