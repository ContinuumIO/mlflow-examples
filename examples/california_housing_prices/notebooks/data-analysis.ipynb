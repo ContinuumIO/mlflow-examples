{
 "cells": [
  {
   "cell_type": "code",
   "execution_count": null,
   "metadata": {
    "ExecuteTime": {
     "end_time": "2023-10-20T22:25:29.921433Z",
     "start_time": "2023-10-20T22:25:28.812297Z"
    },
    "tags": []
   },
   "outputs": [],
   "source": [
    "from src.data import load_data\n",
    "\n",
    "DATA_SET_FILENAME: str = \"../datasets/housing.csv\"\n",
    "(X, y) = load_data(csv_url=DATA_SET_FILENAME, truth_col_name=\"median_house_value\")"
   ]
  },
  {
   "cell_type": "code",
   "execution_count": null,
   "metadata": {
    "ExecuteTime": {
     "end_time": "2023-10-20T22:25:33.141035Z",
     "start_time": "2023-10-20T22:25:32.132287Z"
    }
   },
   "outputs": [],
   "source": [
    "from src.rest import predict\n",
    "import pandas as pd\n",
    "from sklearn.metrics import classification_report\n",
    "from ae5_tools import demand_env_var\n",
    "\n",
    "endpoint_url: str = demand_env_var(name=\"SELF_HOSTED_MODEL_ENDPOINT\")\n",
    "\n",
    "y_pred_api: pd.DataFrame = predict(endpoint_url=endpoint_url, data_x=X, auth=False)"
   ]
  },
  {
   "cell_type": "code",
   "execution_count": null,
   "metadata": {
    "ExecuteTime": {
     "end_time": "2023-10-20T22:25:34.044674Z",
     "start_time": "2023-10-20T22:25:33.992407Z"
    },
    "tags": []
   },
   "outputs": [],
   "source": [
    "# Generate our bucket labels\n",
    "y_2 = y[\"median_house_value\"].round(-5)\n",
    "y_pred_2 = y_pred_api[\"predictions\"].round(-5)\n",
    "labels = pd.concat([y_2, y_pred_2]).drop_duplicates()\n",
    "\n",
    "print(classification_report(y_true=y_2, y_pred=y_pred_2, labels=labels))"
   ]
  },
  {
   "cell_type": "code",
   "execution_count": null,
   "metadata": {
    "ExecuteTime": {
     "end_time": "2023-10-20T22:25:37.526554Z",
     "start_time": "2023-10-20T22:25:37.510477Z"
    }
   },
   "outputs": [],
   "source": [
    "X"
   ]
  },
  {
   "cell_type": "code",
   "execution_count": null,
   "metadata": {},
   "outputs": [],
   "source": [
    "X[\"longitude\"].min()"
   ]
  },
  {
   "cell_type": "code",
   "execution_count": null,
   "metadata": {},
   "outputs": [],
   "source": [
    "X[\"longitude\"].max()"
   ]
  },
  {
   "cell_type": "code",
   "execution_count": null,
   "metadata": {},
   "outputs": [],
   "source": [
    "X[\"longitude\"].mean()"
   ]
  },
  {
   "cell_type": "code",
   "execution_count": null,
   "metadata": {},
   "outputs": [],
   "source": [
    "X[\"latitude\"].min()"
   ]
  },
  {
   "cell_type": "code",
   "execution_count": null,
   "metadata": {},
   "outputs": [],
   "source": [
    "X[\"latitude\"].max()"
   ]
  },
  {
   "cell_type": "code",
   "execution_count": null,
   "metadata": {},
   "outputs": [],
   "source": [
    "X[\"latitude\"].mean()"
   ]
  },
  {
   "cell_type": "code",
   "execution_count": null,
   "metadata": {},
   "outputs": [],
   "source": [
    "X[\"housing_median_age\"].min()"
   ]
  },
  {
   "cell_type": "code",
   "execution_count": null,
   "metadata": {},
   "outputs": [],
   "source": [
    "X[\"housing_median_age\"].max()"
   ]
  },
  {
   "cell_type": "code",
   "execution_count": null,
   "metadata": {},
   "outputs": [],
   "source": [
    "X[\"housing_median_age\"].mean()"
   ]
  },
  {
   "cell_type": "code",
   "execution_count": null,
   "metadata": {},
   "outputs": [],
   "source": [
    "X[\"population\"].min()"
   ]
  },
  {
   "cell_type": "code",
   "execution_count": null,
   "metadata": {},
   "outputs": [],
   "source": [
    "X[\"population\"].max()"
   ]
  },
  {
   "cell_type": "code",
   "execution_count": null,
   "metadata": {},
   "outputs": [],
   "source": [
    "X[\"population\"].mean()"
   ]
  },
  {
   "cell_type": "code",
   "execution_count": null,
   "metadata": {},
   "outputs": [],
   "source": [
    "X[\"households\"].min()"
   ]
  },
  {
   "cell_type": "code",
   "execution_count": null,
   "metadata": {},
   "outputs": [],
   "source": [
    "X[\"households\"].max()"
   ]
  },
  {
   "cell_type": "code",
   "execution_count": null,
   "metadata": {},
   "outputs": [],
   "source": [
    "X[\"households\"].mean()"
   ]
  },
  {
   "cell_type": "code",
   "execution_count": null,
   "metadata": {},
   "outputs": [],
   "source": [
    "X[\"median_income\"].min()"
   ]
  },
  {
   "cell_type": "code",
   "execution_count": null,
   "metadata": {},
   "outputs": [],
   "source": [
    "X[\"median_income\"].max()"
   ]
  },
  {
   "cell_type": "code",
   "execution_count": null,
   "metadata": {},
   "outputs": [],
   "source": [
    "X[\"median_income\"].mean()"
   ]
  },
  {
   "cell_type": "code",
   "execution_count": null,
   "metadata": {
    "ExecuteTime": {
     "end_time": "2023-10-20T22:26:11.824495Z",
     "start_time": "2023-10-20T22:26:11.817442Z"
    }
   },
   "outputs": [],
   "source": [
    "X[\"total_rooms\"].min()"
   ]
  },
  {
   "cell_type": "code",
   "execution_count": null,
   "metadata": {
    "ExecuteTime": {
     "end_time": "2023-10-20T22:26:12.285837Z",
     "start_time": "2023-10-20T22:26:12.258463Z"
    }
   },
   "outputs": [],
   "source": [
    "X[\"total_rooms\"].max()"
   ]
  },
  {
   "cell_type": "code",
   "execution_count": null,
   "metadata": {
    "ExecuteTime": {
     "end_time": "2023-10-20T22:26:12.764572Z",
     "start_time": "2023-10-20T22:26:12.697226Z"
    }
   },
   "outputs": [],
   "source": [
    "X[\"total_rooms\"].mean()"
   ]
  },
  {
   "cell_type": "code",
   "execution_count": null,
   "metadata": {
    "ExecuteTime": {
     "end_time": "2023-10-20T22:28:46.061505Z",
     "start_time": "2023-10-20T22:28:46.059262Z"
    }
   },
   "outputs": [],
   "source": [
    "X[\"bedperroom\"].min()"
   ]
  },
  {
   "cell_type": "code",
   "execution_count": null,
   "metadata": {
    "ExecuteTime": {
     "end_time": "2023-10-20T22:28:46.293962Z",
     "start_time": "2023-10-20T22:28:46.283841Z"
    }
   },
   "outputs": [],
   "source": [
    "X[\"bedperroom\"].max()"
   ]
  },
  {
   "cell_type": "code",
   "execution_count": null,
   "metadata": {
    "ExecuteTime": {
     "end_time": "2023-10-20T22:28:46.752090Z",
     "start_time": "2023-10-20T22:28:46.731907Z"
    }
   },
   "outputs": [],
   "source": [
    "X[\"bedperroom\"].mean()"
   ]
  },
  {
   "cell_type": "code",
   "execution_count": null,
   "metadata": {},
   "outputs": [],
   "source": []
  }
 ],
 "metadata": {
  "kernelspec": {
   "display_name": "Python 3 (ipykernel)",
   "language": "python",
   "name": "python3"
  },
  "language_info": {
   "codemirror_mode": {
    "name": "ipython",
    "version": 3
   },
   "file_extension": ".py",
   "mimetype": "text/x-python",
   "name": "python",
   "nbconvert_exporter": "python",
   "pygments_lexer": "ipython3",
   "version": "3.11.5"
  }
 },
 "nbformat": 4,
 "nbformat_minor": 4
}
