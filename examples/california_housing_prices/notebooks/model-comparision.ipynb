{
 "cells": [
  {
   "cell_type": "markdown",
   "metadata": {},
   "source": [
    "# Determine the performance on the `Production` Model"
   ]
  },
  {
   "cell_type": "code",
   "execution_count": null,
   "metadata": {
    "tags": []
   },
   "outputs": [],
   "source": [
    "from src.environment import init\n",
    "\n",
    "experiment_id, client = init()"
   ]
  },
  {
   "cell_type": "code",
   "execution_count": null,
   "metadata": {
    "tags": []
   },
   "outputs": [],
   "source": [
    "from src.data import load_data\n",
    "\n",
    "DATA_SET_FILENAME: str = \"datasets/housing.csv\"\n",
    "(X, y) = load_data(csv_url=DATA_SET_FILENAME, truth_col_name=\"median_house_value\")"
   ]
  },
  {
   "cell_type": "code",
   "execution_count": null,
   "metadata": {
    "tags": []
   },
   "outputs": [],
   "source": [
    "import warnings\n",
    "import mlflow\n",
    "\n",
    "warnings.filterwarnings(\"ignore\")\n",
    "\n",
    "# By model stage\n",
    "new_model = \"models:/demo_california_housing_prices/Production\"\n",
    "\n",
    "# By model version\n",
    "# new_model = \"models:/demo_california_housing_prices/<<version>>\"\n",
    "# new_model = \"models:/demo_california_housing_prices/3\"\n",
    "\n",
    "# By run id\n",
    "# new_model = \"runs:/<<MLFLOW RUN ID>>/model\"\n",
    "\n",
    "\n",
    "# Load model as a PyFuncModel.\n",
    "loaded_model = mlflow.pyfunc.load_model(new_model, suppress_warnings=True)"
   ]
  },
  {
   "cell_type": "code",
   "execution_count": null,
   "metadata": {
    "tags": []
   },
   "outputs": [],
   "source": [
    "import pandas as pd\n",
    "from sklearn.metrics import classification_report\n",
    "\n",
    "y_pred: pd.DataFrame = pd.DataFrame(loaded_model.predict(X), columns=[\"median_house_value\"])\n",
    "y_pred[\"median_house_value\"] = y_pred[\"median_house_value\"].round().astype(dtype=int)\n",
    "\n",
    "# Generate our bucket labels\n",
    "y_1 = y[\"median_house_value\"].round(-5)\n",
    "y_pred_1 = y_pred[\"median_house_value\"].round(-5)\n",
    "labels = pd.concat([y_1, y_pred_1]).drop_duplicates()\n",
    "\n",
    "print(classification_report(y_true=y_1, y_pred=y_pred_1, labels=labels))"
   ]
  },
  {
   "cell_type": "code",
   "execution_count": null,
   "metadata": {},
   "outputs": [],
   "source": [
    "from src.rest import predict\n",
    "import pandas as pd\n",
    "from sklearn.metrics import classification_report\n",
    "from ae5_tools import demand_env_var\n",
    "\n",
    "endpoint_url: str = demand_env_var(name=\"SELF_HOSTED_MODEL_ENDPOINT\")\n",
    "y_pred_api: pd.DataFrame = predict(endpoint_url=endpoint_url, data_x=X, auth=False)"
   ]
  },
  {
   "cell_type": "code",
   "execution_count": null,
   "metadata": {
    "tags": []
   },
   "outputs": [],
   "source": [
    "# Generate our bucket labels\n",
    "y_2 = y[\"median_house_value\"].round(-5)\n",
    "y_pred_2 = y_pred_api[\"predictions\"].round(-5)\n",
    "labels = pd.concat([y_2, y_pred_2]).drop_duplicates()\n",
    "\n",
    "print(classification_report(y_true=y_2, y_pred=y_pred_2, labels=labels))"
   ]
  }
 ],
 "metadata": {
  "kernelspec": {
   "display_name": "Python 3 (ipykernel) [default]",
   "language": "python",
   "name": "anaconda-project-default-python3"
  },
  "language_info": {
   "codemirror_mode": {
    "name": "ipython",
    "version": 3
   },
   "file_extension": ".py",
   "mimetype": "text/x-python",
   "name": "python",
   "nbconvert_exporter": "python",
   "pygments_lexer": "ipython3",
   "version": "3.11.5"
  }
 },
 "nbformat": 4,
 "nbformat_minor": 4
}
