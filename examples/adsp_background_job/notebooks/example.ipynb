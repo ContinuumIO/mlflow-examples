{
 "cells": [
  {
   "cell_type": "code",
   "execution_count": null,
   "outputs": [],
   "source": [
    "from ae5_tools import load_ae5_user_secrets\n",
    "from mlflow_adsp import upsert_experiment\n",
    "from utils.environment_utils import init\n",
    "import mlflow\n",
    "\n",
    "init()"
   ],
   "metadata": {
    "collapsed": false
   }
  },
  {
   "cell_type": "code",
   "execution_count": null,
   "outputs": [],
   "source": [
    "import mlflow\n",
    "import uuid\n",
    "\n",
    "with mlflow.start_run(run_name=f\"parameterized-training-{str(uuid.uuid4())}\", nested=True) as run:\n",
    "    #\n",
    "    # Wrapped and Tracked Workflow Step Runs\n",
    "    # https://mlflow.org/docs/latest/python_api/mlflow.projects.html#mlflow.projects.run\n",
    "    #\n",
    "    training_data = \"data/category/set/training.csv\"\n",
    "    experiment_id = run.info.experiment_id\n",
    "\n",
    "    background_job = mlflow.projects.run(\n",
    "        uri=\".\",\n",
    "        entry_point=\"process_one\",\n",
    "        run_id=run.info.run_id,\n",
    "        env_manager=\"local\",\n",
    "        backend=\"adsp\",\n",
    "        parameters={\"training_data\": training_data},\n",
    "        experiment_id=experiment_id,\n",
    "        synchronous=False,\n",
    "    )"
   ],
   "metadata": {
    "collapsed": false
   }
  },
  {
   "cell_type": "code",
   "execution_count": null,
   "id": "030280ba-98f4-48c4-8700-6d94e105900d",
   "metadata": {},
   "outputs": [],
   "source": [
    "background_job.get_status()"
   ]
  },
  {
   "cell_type": "code",
   "execution_count": null,
   "id": "f087a0d6-58b7-4a6b-84d1-b958dd2e7ec7",
   "metadata": {},
   "outputs": [],
   "source": [
    "background_job.get_log()"
   ]
  },
  {
   "cell_type": "code",
   "execution_count": null,
   "outputs": [],
   "source": [
    "background_job.wait()"
   ],
   "metadata": {
    "collapsed": false
   }
  },
  {
   "cell_type": "code",
   "execution_count": null,
   "outputs": [],
   "source": [
    "background_job.get_log()"
   ],
   "metadata": {
    "collapsed": false
   }
  }
 ],
 "metadata": {
  "kernelspec": {
   "display_name": "Python 3 (ipykernel) [default]",
   "language": "python",
   "name": "anaconda-project-default-python3"
  },
  "language_info": {
   "codemirror_mode": {
    "name": "ipython",
    "version": 3
   },
   "file_extension": ".py",
   "mimetype": "text/x-python",
   "name": "python",
   "nbconvert_exporter": "python",
   "pygments_lexer": "ipython3",
   "version": "3.8.15"
  }
 },
 "nbformat": 4,
 "nbformat_minor": 5
}
