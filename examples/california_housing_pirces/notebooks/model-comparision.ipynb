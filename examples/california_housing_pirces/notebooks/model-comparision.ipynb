{
 "cells": [
  {
   "cell_type": "markdown",
   "metadata": {},
   "source": [
    "# Determine the performance on the `Production` Model"
   ]
  },
  {
   "cell_type": "code",
   "execution_count": null,
   "metadata": {
    "tags": []
   },
   "outputs": [],
   "source": [
    "from wine_quality.environment import init\n",
    "\n",
    "experiment_id, client = init()"
   ]
  },
  {
   "cell_type": "code",
   "execution_count": null,
   "metadata": {
    "tags": []
   },
   "outputs": [],
   "source": [
    "from wine_quality.data import load_data\n",
    "\n",
    "DATA_SET_FILENAME: str = \"datasets/winequality-white.csv\"\n",
    "(X, y) = load_data(csv_url=DATA_SET_FILENAME, truth_col_name=\"quality\")"
   ]
  },
  {
   "cell_type": "code",
   "execution_count": null,
   "metadata": {
    "tags": []
   },
   "outputs": [],
   "source": [
    "import warnings\n",
    "import mlflow\n",
    "\n",
    "warnings.filterwarnings(\"ignore\")\n",
    "\n",
    "# By model stage\n",
    "# new_model = \"models:/demo_wine_quality/Production\"\n",
    "\n",
    "# By model version\n",
    "# new_model = \"models:/demo_wine_quality/<<version>>\"\n",
    "new_model = \"models:/demo_wine_quality/2\"\n",
    "\n",
    "# By run id\n",
    "new_model # = \"runs:/<<MLFLOW RUN ID>>/model\"\n",
    "\n",
    "\n",
    "# Load model as a PyFuncModel.\n",
    "loaded_model = mlflow.pyfunc.load_model(new_model, suppress_warnings=True)"
   ]
  },
  {
   "cell_type": "code",
   "execution_count": null,
   "metadata": {
    "tags": []
   },
   "outputs": [],
   "source": [
    "import pandas as pd\n",
    "from sklearn.metrics import classification_report\n",
    "\n",
    "y_pred: pd.DataFrame = pd.DataFrame(loaded_model.predict(X), columns=[\"quality\"])\n",
    "y_pred[\"quality\"] = y_pred[\"quality\"].round().astype(dtype=int)\n",
    "print(classification_report(y_true=y, y_pred=y_pred, labels=[3, 4, 5, 6, 7, 8, 9]))"
   ]
  },
  {
   "cell_type": "code",
   "execution_count": null,
   "metadata": {
    "tags": []
   },
   "outputs": [],
   "source": [
    "from wine_quality.rest import predict\n",
    "import pandas as pd\n",
    "from sklearn.metrics import classification_report\n",
    "from ae5_tools import demand_env_var\n",
    "\n",
    "endpoint_url: str = demand_env_var(name=\"SELF_HOSTED_MODEL_ENDPOINT\")\n",
    "y_pred_api: pd.DataFrame = predict(endpoint_url=endpoint_url, data_x=X, auth=False)\n",
    "y_pred_api[\"predictions\"] = y_pred_api[\"predictions\"].round().astype(dtype=int)"
   ]
  },
  {
   "cell_type": "code",
   "execution_count": null,
   "metadata": {
    "tags": []
   },
   "outputs": [],
   "source": [
    "print(classification_report(y_true=y, y_pred=y_pred_api, labels=[3, 4, 5, 6, 7, 8, 9]))"
   ]
  }
 ],
 "metadata": {
  "kernelspec": {
   "display_name": "Python 3 (ipykernel) [default]",
   "language": "python",
   "name": "anaconda-project-default-python3"
  },
  "language_info": {
   "codemirror_mode": {
    "name": "ipython",
    "version": 3
   },
   "file_extension": ".py",
   "mimetype": "text/x-python",
   "name": "python",
   "nbconvert_exporter": "python",
   "pygments_lexer": "ipython3",
   "version": "3.11.5"
  }
 },
 "nbformat": 4,
 "nbformat_minor": 4
}
