{
 "cells": [
  {
   "cell_type": "markdown",
   "id": "eef54061",
   "metadata": {},
   "source": [
    "# Wine Quality Prediction Dashboard\n",
    "This demo will consume a REST API fronting the latest trained model."
   ]
  },
  {
   "cell_type": "code",
   "execution_count": null,
   "id": "899f5293",
   "metadata": {
    "collapsed": false,
    "jupyter": {
     "outputs_hidden": false
    },
    "tags": []
   },
   "outputs": [],
   "source": [
    "from dashboard_utils import *\n",
    "\n",
    "pn.extension()\n",
    "\n",
    "# Build layout\n",
    "pn.Row(\n",
    "    pn.Column(\n",
    "        fixed_acidity_float_slider,\n",
    "        volatile_acidity_float_slider,\n",
    "        citric_acid_float_slider,\n",
    "        residual_sugar_float_slider,\n",
    "        chlorides_float_slider,\n",
    "        free_sulfur_dioxide_float_slider,\n",
    "        total_sulfur_dioxide_float_slider,\n",
    "        density_float_slider,\n",
    "        pH_float_slider,\n",
    "        sulphates_float_slider,\n",
    "        alcohol_float_slider,\n",
    "    ),\n",
    "    pn.Column(pn.Row(submit_btn, clear_btn), results_df_pane),\n",
    ").servable(\"Wine Quality Dashboard\")"
   ]
  }
 ],
 "metadata": {
  "kernelspec": {
   "name": "python3",
   "language": "python",
   "display_name": "Python 3 (ipykernel)"
  },
  "language_info": {
   "codemirror_mode": {
    "name": "ipython",
    "version": 3
   },
   "file_extension": ".py",
   "mimetype": "text/x-python",
   "name": "python",
   "nbconvert_exporter": "python",
   "pygments_lexer": "ipython3",
   "version": "3.11.4"
  }
 },
 "nbformat": 4,
 "nbformat_minor": 5
}
