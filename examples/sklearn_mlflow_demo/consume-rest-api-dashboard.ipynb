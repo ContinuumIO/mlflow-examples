{
 "cells": [
  {
   "cell_type": "markdown",
   "id": "eef54061",
   "metadata": {},
   "source": [
    "# Wine Quality Prediction Dashboard\n",
    "This demo will consume a REST API fronting the latest trained model."
   ]
  },
  {
   "cell_type": "code",
   "execution_count": null,
   "outputs": [],
   "source": [
    "import logging\n",
    "import warnings\n",
    "\n",
    "import numpy as np\n",
    "import pandas as pd\n",
    "import panel as pn\n",
    "import requests\n",
    "\n",
    "from ae5_tools import demand_env_var, load_ae5_user_secrets\n",
    "\n",
    "warnings.filterwarnings(\"ignore\")\n",
    "\n",
    "logging.basicConfig(level=logging.WARN)"
   ],
   "metadata": {
    "collapsed": false
   }
  },
  {
   "cell_type": "code",
   "execution_count": null,
   "outputs": [],
   "source": [
    "# Load user specific configuration.\n",
    "load_ae5_user_secrets()"
   ],
   "metadata": {
    "collapsed": false
   }
  },
  {
   "cell_type": "code",
   "execution_count": null,
   "outputs": [],
   "source": [
    "# Invokes the REST Endpoint\n",
    "def invoke_rest_endpoint(input_data: dict) -> dict:\n",
    "    endpoint_url: str = demand_env_var(name=\"SELF_HOSTED_MODEL_ENDPOINT\")\n",
    "    response = requests.post(url=f\"{endpoint_url}/invocations\", json=input_data, verify=False)\n",
    "    if response.status_code != 200:\n",
    "        raise Exception(f\"Received status code: ({response.status_code}), Failed to call prediction: {response.text}\")\n",
    "    return response.json()"
   ],
   "metadata": {
    "collapsed": false
   }
  },
  {
   "cell_type": "code",
   "execution_count": null,
   "outputs": [],
   "source": [
    "# Get prediction for the  given input.\n",
    "def predict(data_x: pd.DataFrame) -> pd.DataFrame:\n",
    "    # Build the prediction request\n",
    "    payload: list[dict] = data_x.to_dict(orient=\"records\")\n",
    "    json_payload: dict = {\"dataframe_records\": payload}\n",
    "\n",
    "    # Call prediction service\n",
    "    predictions: dict = invoke_rest_endpoint(input_data=json_payload)\n",
    "    return pd.DataFrame(predictions)"
   ],
   "metadata": {
    "collapsed": false
   }
  },
  {
   "cell_type": "code",
   "execution_count": null,
   "outputs": [],
   "source": [
    "# Define our sliders\n",
    "fixed_acidity_float_slider = pn.widgets.EditableFloatSlider(name=\"Fixed Acidity\", start=0, end=15, step=0.1, value=7.0)\n",
    "volatile_acidity_float_slider = pn.widgets.EditableFloatSlider(\n",
    "    name=\"Volatile Acidity\", start=0, end=2, step=0.1, value=1.0\n",
    ")\n",
    "citric_acid_float_slider = pn.widgets.EditableFloatSlider(name=\"Citric Acid\", start=0, end=2, step=0.1, value=1.0)\n",
    "residual_sugar_float_slider = pn.widgets.EditableFloatSlider(\n",
    "    name=\"Residual Sugar\", start=0, end=100, step=0.1, value=50.0\n",
    ")\n",
    "chlorides_float_slider = pn.widgets.EditableFloatSlider(name=\"Chlorides\", start=0, end=1, step=0.1, value=0.25)\n",
    "free_sulfur_dioxide_float_slider = pn.widgets.EditableFloatSlider(\n",
    "    name=\"Free Sulfur Dioxide\", start=0, end=1000, step=0.1, value=100.0\n",
    ")\n",
    "total_sulfur_dioxide_float_slider = pn.widgets.EditableFloatSlider(\n",
    "    name=\"Total Sulfur Dioxide\", start=0, end=1000, step=0.1, value=200.0\n",
    ")\n",
    "density_float_slider = pn.widgets.EditableFloatSlider(name=\"Density\", start=0, end=2, step=0.1, value=0.9)\n",
    "pH_float_slider = pn.widgets.EditableFloatSlider(name=\"pH\", start=0, end=14, step=0.1, value=2.0)\n",
    "sulphates_float_slider = pn.widgets.EditableFloatSlider(name=\"Sulphates\", start=0, end=2, step=0.1, value=0.5)\n",
    "alcohol_float_slider = pn.widgets.EditableFloatSlider(name=\"Alcohol\", start=0, end=100, step=0.1, value=7.0)"
   ],
   "metadata": {
    "collapsed": false
   }
  },
  {
   "cell_type": "code",
   "execution_count": null,
   "outputs": [],
   "source": [
    "def build_blank_result_row() -> pd.DataFrame:\n",
    "    return pd.DataFrame(\n",
    "        [\n",
    "            {\n",
    "                \"fixed acidity\": [],\n",
    "                \"volatile acidity\": [],\n",
    "                \"citric acid\": [],\n",
    "                \"residual sugar\": [],\n",
    "                \"chlorides\": [],\n",
    "                \"free sulfur dioxide\": [],\n",
    "                \"total sulfur dioxide\": [],\n",
    "                \"density\": [],\n",
    "                \"pH\": [],\n",
    "                \"sulphates\": [],\n",
    "                \"alcohol\": [],\n",
    "                \"prediction\": [],\n",
    "            }\n",
    "        ]\n",
    "    )"
   ],
   "metadata": {
    "collapsed": false
   }
  },
  {
   "cell_type": "code",
   "execution_count": null,
   "outputs": [],
   "source": [
    "results_df_pane = pn.widgets.DataFrame(build_blank_result_row(), width=1300)"
   ],
   "metadata": {
    "collapsed": false
   }
  },
  {
   "cell_type": "code",
   "execution_count": null,
   "outputs": [],
   "source": [
    "def clear_btn_action(event):\n",
    "    results_df_pane.value = build_blank_result_row()"
   ],
   "metadata": {
    "collapsed": false
   }
  },
  {
   "cell_type": "code",
   "execution_count": null,
   "outputs": [],
   "source": [
    "def submit_btn_action(event):\n",
    "    feature_data: list[dict] = [\n",
    "        {\n",
    "            \"fixed acidity\": fixed_acidity_float_slider.value,\n",
    "            \"volatile acidity\": volatile_acidity_float_slider.value,\n",
    "            \"citric acid\": citric_acid_float_slider.value,\n",
    "            \"residual sugar\": residual_sugar_float_slider.value,\n",
    "            \"chlorides\": chlorides_float_slider.value,\n",
    "            \"free sulfur dioxide\": free_sulfur_dioxide_float_slider.value,\n",
    "            \"total sulfur dioxide\": total_sulfur_dioxide_float_slider.value,\n",
    "            \"density\": density_float_slider.value,\n",
    "            \"pH\": pH_float_slider.value,\n",
    "            \"sulphates\": sulphates_float_slider.value,\n",
    "            \"alcohol\": alcohol_float_slider.value,\n",
    "            \"prediction\": [],\n",
    "        }\n",
    "    ]\n",
    "    json_payload: dict = {\"dataframe_records\": feature_data}\n",
    "    predictions: dict = invoke_rest_endpoint(input_data=json_payload)\n",
    "    predicted_quality: float = predictions[\"predictions\"][0]\n",
    "    feature_data[0][\"prediction\"] = predicted_quality\n",
    "\n",
    "    row_df = pd.DataFrame(feature_data)\n",
    "\n",
    "    if results_df_pane.value.loc[[0]][\"prediction\"][0] == []:\n",
    "        results_df_pane.value = row_df\n",
    "    else:\n",
    "        results_df_pane.value = pd.concat([results_df_pane.value, row_df], ignore_index=True)"
   ],
   "metadata": {
    "collapsed": false
   }
  },
  {
   "cell_type": "code",
   "execution_count": null,
   "outputs": [],
   "source": [
    "# Define our buttons\n",
    "submit_btn = pn.widgets.Button(name=\"Submit\", button_type=\"primary\")\n",
    "submit_btn.on_click(submit_btn_action)\n",
    "\n",
    "clear_btn = pn.widgets.Button(name=\"Clear\", button_type=\"primary\")\n",
    "clear_btn.on_click(clear_btn_action)"
   ],
   "metadata": {
    "collapsed": false
   }
  },
  {
   "cell_type": "code",
   "execution_count": null,
   "outputs": [],
   "source": [
    "pn.extension()\n",
    "\n",
    "# Build layout\n",
    "pn.Row(\n",
    "    pn.Column(\n",
    "        fixed_acidity_float_slider,\n",
    "        volatile_acidity_float_slider,\n",
    "        citric_acid_float_slider,\n",
    "        residual_sugar_float_slider,\n",
    "        chlorides_float_slider,\n",
    "        free_sulfur_dioxide_float_slider,\n",
    "        total_sulfur_dioxide_float_slider,\n",
    "        density_float_slider,\n",
    "        pH_float_slider,\n",
    "        sulphates_float_slider,\n",
    "        alcohol_float_slider,\n",
    "    ),\n",
    "    pn.Column(pn.Row(submit_btn, clear_btn), results_df_pane),\n",
    ").servable(\"Wine Quality Dashboard\")"
   ],
   "metadata": {
    "collapsed": false
   }
  }
 ],
 "metadata": {
  "kernelspec": {
   "name": "python3",
   "language": "python",
   "display_name": "Python 3 (ipykernel)"
  },
  "language_info": {
   "codemirror_mode": {
    "name": "ipython",
    "version": 3
   },
   "file_extension": ".py",
   "mimetype": "text/x-python",
   "name": "python",
   "nbconvert_exporter": "python",
   "pygments_lexer": "ipython3",
   "version": "3.11.4"
  }
 },
 "nbformat": 4,
 "nbformat_minor": 5
}
