{
 "cells": [
  {
   "cell_type": "markdown",
   "id": "eef54061",
   "metadata": {},
   "source": [
    "# REST API Consumer Demo\n",
    "This demo will consume our trained model through a hosted REST API."
   ]
  },
  {
   "cell_type": "code",
   "execution_count": null,
   "id": "e69a9bf6",
   "metadata": {
    "jupyter": {
     "outputs_hidden": false
    },
    "tags": []
   },
   "outputs": [],
   "source": [
    "import warnings\n",
    "\n",
    "import numpy as np\n",
    "import pandas as pd\n",
    "import requests\n",
    "from pandas import DataFrame\n",
    "\n",
    "from ae5_tools import demand_env_var\n",
    "\n",
    "warnings.filterwarnings(\"ignore\")\n",
    "np.random.seed(42)"
   ]
  },
  {
   "cell_type": "code",
   "execution_count": null,
   "id": "263e43bc-f426-4b83-b681-77f91f4bb4ce",
   "metadata": {
    "tags": []
   },
   "outputs": [],
   "source": [
    "\"\"\"\n",
    "Load user specific configuration.\n",
    "\"\"\"\n",
    "\n",
    "from ae5_tools import load_ae5_user_secrets\n",
    "\n",
    "load_ae5_user_secrets()"
   ]
  },
  {
   "cell_type": "code",
   "execution_count": null,
   "id": "82278541",
   "metadata": {
    "tags": []
   },
   "outputs": [],
   "source": [
    "\"\"\"\n",
    "Invokes the REST Endpoint\n",
    "\"\"\"\n",
    "\n",
    "\n",
    "def invoke_rest_endpoint(input_data: dict) -> dict:\n",
    "    endpoint_url: str = demand_env_var(name=\"SELF_HOSTED_MODEL_ENDPOINT\")\n",
    "    response = requests.post(url=f\"{endpoint_url}/invocations\", json=input_data, verify=False)\n",
    "    if response.status_code != 200:\n",
    "        raise Exception(f\"Received status code: ({response.status_code}), Failed to call prediction: {response.text}\")\n",
    "    return response.json()"
   ]
  },
  {
   "cell_type": "code",
   "execution_count": null,
   "id": "04065e13",
   "metadata": {
    "jupyter": {
     "outputs_hidden": false
    },
    "tags": []
   },
   "outputs": [],
   "source": [
    "\"\"\"\n",
    "Data Preparation\n",
    "Loads the data from csv file, and returns our train, test splits for training.\n",
    "\"\"\"\n",
    "\n",
    "\n",
    "def prepare_data(csv_url: str) -> dict:\n",
    "    csv_data: pd.DataFrame = pd.read_csv(csv_url, sep=\",\")\n",
    "\n",
    "    # The predicted column is \"quality\" which is a scalar from [3, 9]\n",
    "    data_x = csv_data.drop([\"quality\"], axis=1)\n",
    "    data_y: DataFrame = csv_data[[\"quality\"]]\n",
    "\n",
    "    return {\"data_x\": data_x, \"data_y\": data_y}"
   ]
  },
  {
   "cell_type": "code",
   "execution_count": null,
   "id": "8a2e7bdf",
   "metadata": {
    "tags": []
   },
   "outputs": [],
   "source": [
    "\"\"\"\n",
    "Get prediction for the  given input.\n",
    "\"\"\"\n",
    "\n",
    "\n",
    "def predict(data_x: pd.DataFrame) -> pd.DataFrame:\n",
    "    # Build the prediction request\n",
    "    payload: list[dict] = data_x.to_dict(orient=\"records\")\n",
    "    json_payload: dict = {\"dataframe_records\": payload}\n",
    "\n",
    "    # Call prediction service\n",
    "    predictions: dict = invoke_rest_endpoint(input_data=json_payload)\n",
    "    return pd.DataFrame(predictions)"
   ]
  },
  {
   "cell_type": "markdown",
   "id": "c57f3701",
   "metadata": {},
   "source": [
    "# Get predictions for data set"
   ]
  },
  {
   "cell_type": "code",
   "execution_count": null,
   "id": "15c6671f",
   "metadata": {},
   "outputs": [],
   "source": [
    "\"\"\"\n",
    "Load a data set to predict wine quality on.\n",
    "\"\"\"\n",
    "\n",
    "csv_url: str = \"datasets/winequality-red.csv\"\n",
    "data: dict = prepare_data(csv_url=csv_url)\n",
    "data_x: pd.DataFrame = data[\"data_x\"]\n",
    "data_y: pd.DataFrame = data[\"data_y\"]\n",
    "\n",
    "predictions_df: pd.DataFrame = predict(data_x=data_x)\n",
    "predictions_df[\"truth\"] = data_y"
   ]
  },
  {
   "cell_type": "code",
   "execution_count": null,
   "id": "f8e82ea9",
   "metadata": {
    "jupyter": {
     "outputs_hidden": false
    }
   },
   "outputs": [],
   "source": [
    "predictions_df"
   ]
  }
 ],
 "metadata": {
  "kernelspec": {
   "display_name": "Python 3 (ipykernel)",
   "language": "python",
   "name": "python3"
  },
  "language_info": {
   "codemirror_mode": {
    "name": "ipython",
    "version": 3
   },
   "file_extension": ".py",
   "mimetype": "text/x-python",
   "name": "python",
   "nbconvert_exporter": "python",
   "pygments_lexer": "ipython3",
   "version": "3.11.4"
  }
 },
 "nbformat": 4,
 "nbformat_minor": 5
}
