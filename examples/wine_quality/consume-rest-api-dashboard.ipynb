{
 "cells": [
  {
   "cell_type": "markdown",
   "id": "eef54061",
   "metadata": {},
   "source": [
    "# Wine Quality Prediction Dashboard\n",
    "This demo will consume a REST API fronting the latest trained model."
   ]
  },
  {
   "cell_type": "code",
   "execution_count": null,
   "id": "a608e391",
   "metadata": {},
   "outputs": [],
   "source": [
    "import pandas as pd\n",
    "import panel as pn\n",
    "from utils.environment import init\n",
    "import warnings\n",
    "import numpy as np\n",
    "\n",
    "warnings.filterwarnings(\"ignore\")\n",
    "np.random.seed(42)\n",
    "\n",
    "experiment_id, client = init()"
   ]
  },
  {
   "cell_type": "code",
   "execution_count": null,
   "id": "092b0116",
   "metadata": {},
   "outputs": [],
   "source": [
    "# Define our sliders\n",
    "fixed_acidity_float_slider = pn.widgets.EditableFloatSlider(\n",
    "    name=\"Fixed Acidity(g/L)\", start=0, end=15, step=0.1, value=7.0\n",
    ")\n",
    "volatile_acidity_float_slider = pn.widgets.EditableFloatSlider(\n",
    "    name=\"Volatile Acidity (g/L)\", start=0, end=2, step=0.1, value=1.0\n",
    ")\n",
    "citric_acid_float_slider = pn.widgets.EditableFloatSlider(name=\"Citric Acid (g/L)\", start=0, end=2, step=0.1, value=1.0)\n",
    "residual_sugar_float_slider = pn.widgets.EditableFloatSlider(\n",
    "    name=\"Residual Sugar (g/L)\", start=0, end=50, step=0.1, value=20.0\n",
    ")\n",
    "chlorides_float_slider = pn.widgets.EditableFloatSlider(name=\"Chlorides (g/L)\", start=0, end=1, step=0.1, value=0.25)\n",
    "free_sulfur_dioxide_float_slider = pn.widgets.EditableFloatSlider(\n",
    "    name=\"Free Sulfur Dioxide (mg/L)\", start=0, end=1000, step=0.1, value=100.0\n",
    ")\n",
    "total_sulfur_dioxide_float_slider = pn.widgets.EditableFloatSlider(\n",
    "    name=\"Total Sulfur Dioxide (mg/L)\", start=0, end=1000, step=0.1, value=200.0\n",
    ")\n",
    "density_float_slider = pn.widgets.EditableFloatSlider(name=\"Density\", start=0, end=2, step=0.1, value=0.9)\n",
    "pH_float_slider = pn.widgets.EditableFloatSlider(name=\"pH\", start=2, end=5, step=0.1, value=2.0)\n",
    "sulphates_float_slider = pn.widgets.EditableFloatSlider(name=\"Sulphates\", start=0, end=2, step=0.1, value=0.5)\n",
    "alcohol_float_slider = pn.widgets.EditableFloatSlider(name=\"Alcohol (%ABV)\", start=0, end=20, step=0.1, value=10.0)"
   ]
  },
  {
   "cell_type": "code",
   "execution_count": null,
   "id": "c8ea10fc",
   "metadata": {},
   "outputs": [],
   "source": [
    "def build_blank_result_row() -> pd.DataFrame:\n",
    "    return pd.DataFrame(\n",
    "        [\n",
    "            {\n",
    "                \"fixed acidity\": [],\n",
    "                \"volatile acidity\": [],\n",
    "                \"citric acid\": [],\n",
    "                \"residual sugar\": [],\n",
    "                \"chlorides\": [],\n",
    "                \"free sulfur dioxide\": [],\n",
    "                \"total sulfur dioxide\": [],\n",
    "                \"density\": [],\n",
    "                \"pH\": [],\n",
    "                \"sulphates\": [],\n",
    "                \"alcohol\": [],\n",
    "                \"prediction\": [],\n",
    "            }\n",
    "        ]\n",
    "    )"
   ]
  },
  {
   "cell_type": "code",
   "execution_count": null,
   "id": "6257e2be",
   "metadata": {},
   "outputs": [],
   "source": [
    "results_df_pane = pn.widgets.DataFrame(build_blank_result_row(), width=1300)"
   ]
  },
  {
   "cell_type": "code",
   "execution_count": null,
   "id": "f50e9a77",
   "metadata": {},
   "outputs": [],
   "source": [
    "def clear_btn_action(event):\n",
    "    results_df_pane.value = build_blank_result_row()"
   ]
  },
  {
   "cell_type": "code",
   "execution_count": null,
   "id": "0269b37d",
   "metadata": {},
   "outputs": [],
   "source": [
    "from utils.rest import invoke_rest_endpoint\n",
    "from ae5_tools import demand_env_var\n",
    "\n",
    "\n",
    "def submit_btn_action(event):\n",
    "    feature_data: list[dict] = [\n",
    "        {\n",
    "            \"fixed acidity\": fixed_acidity_float_slider.value,\n",
    "            \"volatile acidity\": volatile_acidity_float_slider.value,\n",
    "            \"citric acid\": citric_acid_float_slider.value,\n",
    "            \"residual sugar\": residual_sugar_float_slider.value,\n",
    "            \"chlorides\": chlorides_float_slider.value,\n",
    "            \"free sulfur dioxide\": free_sulfur_dioxide_float_slider.value,\n",
    "            \"total sulfur dioxide\": total_sulfur_dioxide_float_slider.value,\n",
    "            \"density\": density_float_slider.value,\n",
    "            \"pH\": pH_float_slider.value,\n",
    "            \"sulphates\": sulphates_float_slider.value,\n",
    "            \"alcohol\": alcohol_float_slider.value,\n",
    "            \"prediction\": [],\n",
    "        }\n",
    "    ]\n",
    "    json_payload: dict = {\"dataframe_records\": feature_data}\n",
    "    predictions: dict = invoke_rest_endpoint(\n",
    "        endpoint_url=demand_env_var(name=\"SELF_HOSTED_MODEL_ENDPOINT\"), input_data=json_payload\n",
    "    )\n",
    "    predicted_quality: int = int(round(predictions[\"predictions\"][0]))\n",
    "    if predicted_quality < 3 or predicted_quality > 9:\n",
    "        predicted_quality = 0\n",
    "    feature_data[0][\"prediction\"] = predicted_quality\n",
    "\n",
    "    row_df = pd.DataFrame(feature_data)\n",
    "\n",
    "    if results_df_pane.value.loc[[0]][\"prediction\"][0] == []:\n",
    "        results_df_pane.value = row_df\n",
    "    else:\n",
    "        results_df_pane.value = pd.concat([results_df_pane.value, row_df], ignore_index=True)"
   ]
  },
  {
   "cell_type": "code",
   "execution_count": null,
   "id": "ed7dc31b",
   "metadata": {},
   "outputs": [],
   "source": [
    "# Define our buttons\n",
    "submit_btn = pn.widgets.Button(name=\"Submit\", button_type=\"primary\")\n",
    "submit_btn.on_click(submit_btn_action)\n",
    "\n",
    "clear_btn = pn.widgets.Button(name=\"Clear\", button_type=\"primary\")\n",
    "clear_btn.on_click(clear_btn_action)"
   ]
  },
  {
   "cell_type": "code",
   "execution_count": null,
   "id": "6517d710",
   "metadata": {},
   "outputs": [],
   "source": [
    "pn.extension()\n",
    "\n",
    "title: str = \"<h1>Wine Quality Dashboard</h1>\"\n",
    "description = pn.pane.HTML(\"\"\"Feature selection and quality prediction for the Wine Quality model.\"\"\")\n",
    "\n",
    "# Build layout\n",
    "pn.Column(\n",
    "    pn.Row(pn.Column(title, description)),\n",
    "    pn.Row(\n",
    "        pn.Column(\n",
    "            fixed_acidity_float_slider,\n",
    "            volatile_acidity_float_slider,\n",
    "            citric_acid_float_slider,\n",
    "            residual_sugar_float_slider,\n",
    "            chlorides_float_slider,\n",
    "            free_sulfur_dioxide_float_slider,\n",
    "            total_sulfur_dioxide_float_slider,\n",
    "            density_float_slider,\n",
    "            pH_float_slider,\n",
    "            sulphates_float_slider,\n",
    "            alcohol_float_slider,\n",
    "        ),\n",
    "        pn.Column(pn.Row(submit_btn, clear_btn), results_df_pane),\n",
    "    ),\n",
    "    pn.Row(\n",
    "        pn.Column(\n",
    "            \"### Feature Description\",\n",
    "            \"*Fixed Acidity*: Acids in wine that do not readily evaporate.\",\n",
    "            \"*Volatile Acidity*: The amount of acetic acid in wine, which at too high of levels can lead to an unpleasant, vinegar taste.\",\n",
    "            \"*Citric Acid*: Found in small quantities, citric acid can add ‘freshness’ and flavor to wines.\",\n",
    "            \"*Residual Sugar*: The amount of sugar remaining after fermentation stops.\",\n",
    "            \"*Chlorides*: The amount of salt in the wine.\",\n",
    "            \"*Free Sulfur Dioxide*: The free form of SO_2. It prevents microbial growth and the oxidation of wine.\",\n",
    "            \"*Total Sulfur Dioxide*: The amount of free and bound forms of S02.\",\n",
    "            \"*Density*: The density of water is close to that of water depending on the percent alcohol and sugar content.\",\n",
    "            \"*pH*: Describes how acidic or basic a wine is on a scale from 0 (very acidic) to 14 (very basic); most wines are between 3-4 on the pH scale.\",\n",
    "            \"*Sulphates*: A wine additive which can contribute to sulfur dioxide gas (S02) levels, wich acts as an antimicrobial and antioxidant.\",\n",
    "            \"*Alcohol*: The percent alcohol content of the wine.\",\n",
    "        )\n",
    "    ),\n",
    ").servable(\"Wine Quality Dashboard\")"
   ]
  }
 ],
 "metadata": {
  "kernelspec": {
   "display_name": "Python 3 (ipykernel)",
   "language": "python",
   "name": "python3"
  },
  "language_info": {
   "codemirror_mode": {
    "name": "ipython",
    "version": 3
   },
   "file_extension": ".py",
   "mimetype": "text/x-python",
   "name": "python",
   "nbconvert_exporter": "python",
   "pygments_lexer": "ipython3",
   "version": "3.11.4"
  }
 },
 "nbformat": 4,
 "nbformat_minor": 5
}
