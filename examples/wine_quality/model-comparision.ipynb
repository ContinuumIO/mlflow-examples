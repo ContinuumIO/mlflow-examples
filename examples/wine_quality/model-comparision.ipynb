{
 "cells": [
  {
   "cell_type": "markdown",
   "metadata": {
    "collapsed": false
   },
   "source": [
    "# Determine the performance on the `Production` Model"
   ]
  },
  {
   "cell_type": "code",
   "execution_count": null,
   "metadata": {},
   "outputs": [],
   "source": [
    "from data_utils import load_data\n",
    "\n",
    "DATA_SET_FILENAME: str = \"datasets/wine-quality.csv\"\n",
    "(X, y) = load_data(csv_url=DATA_SET_FILENAME, truth_col_name=\"quality\")"
   ]
  },
  {
   "cell_type": "code",
   "execution_count": null,
   "metadata": {},
   "outputs": [],
   "source": [
    "import warnings\n",
    "import mlflow\n",
    "\n",
    "warnings.filterwarnings(\"ignore\")\n",
    "\n",
    "new_model = \"models:/demo_wine_demo/Production\"\n",
    "\n",
    "# Load model as a PyFuncModel.\n",
    "loaded_model = mlflow.pyfunc.load_model(new_model, suppress_warnings=True)"
   ]
  },
  {
   "cell_type": "code",
   "execution_count": null,
   "metadata": {},
   "outputs": [],
   "source": [
    "import pandas as pd\n",
    "from sklearn.metrics import classification_report\n",
    "\n",
    "y_pred: pd.DataFrame = pd.DataFrame(loaded_model.predict(X), columns=[\"quality\"])\n",
    "y_pred[\"quality\"] = y_pred[\"quality\"].round().astype(dtype=int)\n",
    "print(classification_report(y_true=y, y_pred=y_pred, labels=[3, 4, 5, 6, 7, 8, 9]))"
   ]
  },
  {
   "cell_type": "code",
   "execution_count": null,
   "metadata": {},
   "outputs": [],
   "source": [
    "from rest_utils import predict\n",
    "\n",
    "endpoint_url: str = \"https://mlflow-winedemo-cgunn-api.aip.anaconda.com/\"\n",
    "y_pred_api: pd.DataFrame = predict(endpoint_url=endpoint_url, data_x=X)\n",
    "y_pred_api[\"predictions\"] = y_pred_api[\"predictions\"].round().astype(dtype=int)"
   ]
  },
  {
   "cell_type": "code",
   "execution_count": null,
   "metadata": {},
   "outputs": [],
   "source": [
    "print(classification_report(y_true=y, y_pred=y_pred_api, labels=[3, 4, 5, 6, 7, 8, 9]))"
   ]
  }
 ],
 "metadata": {
  "kernelspec": {
   "display_name": "Python 3",
   "language": "python",
   "name": "python3"
  },
  "language_info": {
   "codemirror_mode": {
    "name": "ipython",
    "version": 2
   },
   "file_extension": ".py",
   "mimetype": "text/x-python",
   "name": "python",
   "nbconvert_exporter": "python",
   "pygments_lexer": "ipython2",
   "version": "2.7.6"
  }
 },
 "nbformat": 4,
 "nbformat_minor": 0
}
